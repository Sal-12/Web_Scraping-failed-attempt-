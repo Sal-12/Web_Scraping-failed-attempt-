{
 "cells": [
  {
   "cell_type": "code",
   "execution_count": 1,
   "metadata": {},
   "outputs": [],
   "source": [
    "import requests\n",
    "from bs4 import BeautifulSoup\n",
    "from random import choice"
   ]
  },
  {
   "cell_type": "code",
   "execution_count": 2,
   "metadata": {},
   "outputs": [],
   "source": [
    "url = \"https://www.sslproxies.org/\""
   ]
  },
  {
   "cell_type": "code",
   "execution_count": 3,
   "metadata": {},
   "outputs": [],
   "source": [
    "r = requests.get(url)"
   ]
  },
  {
   "cell_type": "code",
   "execution_count": 4,
   "metadata": {},
   "outputs": [],
   "source": [
    "soup = BeautifulSoup(r.content, 'html5lib')"
   ]
  },
  {
   "cell_type": "code",
   "execution_count": 5,
   "metadata": {},
   "outputs": [
    {
     "data": {
      "text/plain": [
       "['167.172.171.115:40061',\n",
       " '178.66.182.76:3128',\n",
       " '122.2.183.222:8080',\n",
       " '187.243.255.174:8080',\n",
       " '182.52.51.10:61124',\n",
       " '5.202.52.19:3128',\n",
       " '41.65.146.38:8080',\n",
       " '79.143.87.140:9090',\n",
       " '45.181.121.145:999',\n",
       " '1.186.40.2:54754',\n",
       " '209.45.111.198:45729',\n",
       " '187.243.253.2:8080',\n",
       " '103.162.205.100:8181',\n",
       " '131.108.118.27:8080',\n",
       " '185.189.211.70:8080',\n",
       " '101.109.255.18:50538',\n",
       " '138.99.164.90:3128',\n",
       " '202.62.67.209:53281',\n",
       " '103.73.74.217:2021',\n",
       " '78.138.131.248:3128',\n",
       " '185.131.62.250:53281',\n",
       " '182.16.171.42:43188',\n",
       " '95.85.24.83:8118',\n",
       " '179.108.123.210:51314',\n",
       " '185.67.95.179:3128',\n",
       " '1.20.102.102:38816',\n",
       " '95.165.187.202:45396',\n",
       " '176.62.188.158:56351',\n",
       " '103.11.106.69:8181',\n",
       " '112.78.170.28:8080',\n",
       " '103.6.104.105:38898',\n",
       " '157.230.95.4:8118',\n",
       " '201.59.201.92:39553',\n",
       " '213.108.5.226:3128',\n",
       " '103.143.196.98:8080',\n",
       " '51.222.67.213:32769',\n",
       " '160.238.227.153:30222',\n",
       " '181.143.106.162:52151',\n",
       " '65.18.114.254:55443',\n",
       " '119.2.47.46:8080',\n",
       " '194.8.85.146:3128',\n",
       " '149.56.47.132:443',\n",
       " '51.222.220.236:32769',\n",
       " '51.222.197.249:32769',\n",
       " '51.222.197.237:32769',\n",
       " '95.165.4.178:8080',\n",
       " '51.222.220.233:32769',\n",
       " '103.243.82.198:37358',\n",
       " '51.222.197.189:32769',\n",
       " '51.79.185.236:8080',\n",
       " '202.40.188.90:40486',\n",
       " '36.37.74.60:8080',\n",
       " '119.82.249.4:60959',\n",
       " '85.90.215.111:3128',\n",
       " '114.32.84.229:80',\n",
       " '45.130.229.230:443',\n",
       " '158.51.109.34:26019',\n",
       " '62.205.169.74:53281',\n",
       " '185.34.22.225:37879',\n",
       " '177.55.76.196:8080',\n",
       " '95.158.63.46:32923',\n",
       " '219.92.3.149:8080',\n",
       " '85.185.159.75:8080',\n",
       " '51.222.197.192:32769',\n",
       " '51.222.197.255:32769',\n",
       " '51.222.197.225:32769',\n",
       " '34.122.64.20:8080',\n",
       " '103.110.47.51:8080',\n",
       " '51.222.197.151:32769',\n",
       " '159.89.221.73:3128',\n",
       " '208.80.28.208:8080',\n",
       " '51.222.197.254:32769',\n",
       " '101.109.255.17:43501',\n",
       " '150.129.115.118:48071',\n",
       " '187.130.139.197:8080',\n",
       " '150.129.148.99:35101',\n",
       " '185.128.38.243:8080',\n",
       " '36.37.177.186:8080',\n",
       " '36.67.123.187:8080',\n",
       " '42.188.200.213:8080',\n",
       " '62.152.75.110:50287',\n",
       " '182.253.175.129:8080',\n",
       " '51.222.197.223:32769',\n",
       " '52.60.43.64:80',\n",
       " '51.222.197.128:32769',\n",
       " '51.222.197.210:32769',\n",
       " '87.140.28.150:3128',\n",
       " '167.172.180.46:35301',\n",
       " '54.202.73.211:80',\n",
       " '51.222.197.164:32769',\n",
       " '51.222.197.169:32769',\n",
       " '142.44.136.219:32769',\n",
       " '157.230.255.230:8118',\n",
       " '177.73.47.138:8080',\n",
       " '79.129.58.185:8080',\n",
       " '221.120.210.211:39617',\n",
       " '51.222.197.239:32769',\n",
       " '178.140.58.34:8080',\n",
       " '45.234.200.18:53281',\n",
       " '179.49.57.150:6666',\n",
       " ' All:9142',\n",
       " ' EU:4278',\n",
       " ' EE:374',\n",
       " ' PL:139',\n",
       " ' SE:76',\n",
       " ' SK:48',\n",
       " ' SC:23',\n",
       " ' SG:18',\n",
       " ' BE:15',\n",
       " ' NZ:12',\n",
       " ' IS:10']"
      ]
     },
     "execution_count": 5,
     "metadata": {},
     "output_type": "execute_result"
    }
   ],
   "source": [
    "list(map(lambda x:x[0]+':'+x[1], list(zip(map(lambda x:x.text, soup.findAll('td')[::8]), \n",
    "                                    map(lambda x:x.text, soup.findAll('td')[1::8])))))"
   ]
  },
  {
   "cell_type": "code",
   "execution_count": 6,
   "metadata": {},
   "outputs": [
    {
     "data": {
      "text/plain": [
       "'112.78.170.28:8080'"
      ]
     },
     "execution_count": 6,
     "metadata": {},
     "output_type": "execute_result"
    }
   ],
   "source": [
    "choice(list(map(lambda x:x[0]+':'+x[1], list(zip(map(lambda x:x.text, soup.findAll('td')[::8]), \n",
    "                                    map(lambda x:x.text, soup.findAll('td')[1::8]))))))"
   ]
  },
  {
   "cell_type": "code",
   "execution_count": 7,
   "metadata": {},
   "outputs": [],
   "source": [
    "def get_proxy():\n",
    "    url = \"https://www.sslproxies.org/\"\n",
    "    r = requests.get(url)\n",
    "    soup = BeautifulSoup(r.content, 'html5lib')\n",
    "    return {'https': choice(list(map(lambda x:x[0]+':'+x[1], list(zip(map(lambda x:x.text, soup.findAll('td')[::8]), \n",
    "                                    map(lambda x:x.text, soup.findAll('td')[1::8]))))))}"
   ]
  },
  {
   "cell_type": "code",
   "execution_count": 8,
   "metadata": {},
   "outputs": [
    {
     "data": {
      "text/plain": [
       "{'https': '119.2.47.46:8080'}"
      ]
     },
     "execution_count": 8,
     "metadata": {},
     "output_type": "execute_result"
    }
   ],
   "source": [
    "get_proxy()"
   ]
  },
  {
   "cell_type": "code",
   "execution_count": 9,
   "metadata": {},
   "outputs": [],
   "source": [
    "def proxy_request(request_type, url, **kwargs):\n",
    "    while 1:\n",
    "        try:\n",
    "            proxy = get_proxy()\n",
    "            print(\"using proxy: {}\".format(proxy))\n",
    "            r = requests.request(request_type, url, proxies=proxy, timeout=5, **kwargs)\n",
    "            break\n",
    "        except:\n",
    "            pass\n",
    "    return r"
   ]
  },
  {
   "cell_type": "code",
   "execution_count": 10,
   "metadata": {},
   "outputs": [
    {
     "name": "stdout",
     "output_type": "stream",
     "text": [
      "using proxy: {'https': '103.73.74.217:2021'}\n",
      "using proxy: {'https': '52.60.43.64:80'}\n"
     ]
    }
   ],
   "source": [
    "r = proxy_request('get', 'https://youtube.com')"
   ]
  },
  {
   "cell_type": "code",
   "execution_count": 11,
   "metadata": {},
   "outputs": [
    {
     "data": {
      "text/plain": [
       "'<!DOCTYPE html PUBLIC \"-//W3C//DTD HTML 4.01 Transitional//EN\">\\n<html>\\n<head><meta http-equiv=\"content-type\" content=\"text/html; charset=utf-8\"><meta name=\"viewport\" content=\"initial-scale=1\"><title>https://youtube.com/</title></head>\\n<body style=\"font-family: arial, sans-serif; background-color: #fff; color: #000; padding:20px; font-size:18px;\" onload=\"e=document.getElementById(\\'captcha\\');if(e){e.focus();}\">\\n<div style=\"max-width:400px;\">\\n<hr noshade size=\"1\" style=\"color:#ccc; background-color:#ccc;\"><br>\\n<form id=\"captcha-form\" action=\"index\" method=\"post\">\\n<script src=\"https://www.google.com/recaptcha/api.js\" async defer></script>\\n<script>var submitCallback = function(response) {document.getElementById(\\'captcha-form\\').submit();};</script>\\n<div id=\"recaptcha\" class=\"g-recaptcha\" data-sitekey=\"6LfwuyUTAAAAAOAmoS0fdqijC2PbbdH4kjq62Y1b\" data-callback=\"submitCallback\" data-s=\"55z-L9PKLXznYGW4kkyN-kAIOKxNmLDPa-z-Hbgyio-SsNbNg0n4c7s-O3IY4kmeYWoEpskVVtfjlxCt8BPYmOgZuYYq5tDUd8XB8FzY3logILU0FOEt7PiTTkgnTedNJ2R9yDxmWCmeftjidi5-affii6LpByUXY2w5FZA2mkns9-G4foIi0qFX33U12Yurnlt2KQghaD9lCfmfoeu5XBJBRcSp29mNijCG3fc\"></div>\\n<input type=\\'hidden\\' name=\\'q\\' value=\\'EgQ0PCtAGIm2v4UGIhDa5Lz8dbtXzH5sPJaklgUFMgFy\\'><input type=\"hidden\" name=\"continue\" value=\"https://youtube.com/\">\\n</form>\\n<hr noshade size=\"1\" style=\"color:#ccc; background-color:#ccc;\">\\n\\n<div style=\"font-size:13px;\">\\n<b>About this page</b><br><br>\\n\\nOur systems have detected unusual traffic from your computer network.  This page checks to see if it&#39;s really you sending the requests, and not a robot.  <a href=\"#\" onclick=\"document.getElementById(\\'infoDiv\\').style.display=\\'block\\';\">Why did this happen?</a><br><br>\\n\\n<div id=\"infoDiv\" style=\"display:none; background-color:#eee; padding:10px; margin:0 0 15px 0; line-height:1.4em;\">\\nThis page appears when Google automatically detects requests coming from your computer network which appear to be in violation of the <a href=\"//www.google.com/policies/terms/\">Terms of Service</a>. The block will expire shortly after those requests stop.  In the meantime, solving the above CAPTCHA will let you continue to use our services.<br><br>This traffic may have been sent by malicious software, a browser plug-in, or a script that sends automated requests.  If you share your network connection, ask your administrator for help &mdash; a different computer using the same IP address may be responsible.  <a href=\"//support.google.com/websearch/answer/86640\">Learn more</a><br><br>Sometimes you may be asked to solve the CAPTCHA if you are using advanced terms that robots are known to use, or sending requests very quickly.\\n</div>\\n\\nIP address: 52.60.43.64<br>Time: 2021-05-27T17:46:51Z<br>URL: https://youtube.com/<br>\\n</div>\\n</div>\\n</body>\\n</html>\\n'"
      ]
     },
     "execution_count": 11,
     "metadata": {},
     "output_type": "execute_result"
    }
   ],
   "source": [
    "r.text"
   ]
  },
  {
   "cell_type": "code",
   "execution_count": null,
   "metadata": {},
   "outputs": [
    {
     "name": "stdout",
     "output_type": "stream",
     "text": [
      "* Socks5 proxy server is running on 127.0.0.1:3000\n"
     ]
    }
   ],
   "source": [
    "import socket\n",
    "import threading\n",
    "import select\n",
    "\n",
    "\n",
    "\n",
    "SOCKS_VERSION = 5\n",
    "\n",
    "\n",
    "class Proxy:\n",
    "    def __init__(self):\n",
    "        self.username = \"username\"\n",
    "        self.password = \"password\"\n",
    "\n",
    "    def handle_client(self, connection):\n",
    "        # greeting header\n",
    "        # read and unpack 2 bytes from a client\n",
    "        version, nmethods = connection.recv(2)\n",
    "\n",
    "        # get available methods [0, 1, 2]\n",
    "        methods = self.get_available_methods(nmethods, connection)\n",
    "\n",
    "        # accept only USERNAME/PASSWORD auth\n",
    "        if 2 not in set(methods):\n",
    "            # close connection\n",
    "            connection.close()\n",
    "            return\n",
    "\n",
    "        # send welcome message\n",
    "        connection.sendall(bytes([SOCKS_VERSION, 2]))\n",
    "\n",
    "        if not self.verify_credentials(connection):\n",
    "            return\n",
    "\n",
    "        # request (version=5)\n",
    "        version, cmd, _, address_type = connection.recv(4)\n",
    "\n",
    "        if address_type == 1:  # IPv4\n",
    "            address = socket.inet_ntoa(connection.recv(4))\n",
    "        elif address_type == 3:  # Domain name\n",
    "            domain_length = connection.recv(1)[0]\n",
    "            address = connection.recv(domain_length)\n",
    "            address = socket.gethostbyname(address)\n",
    "\n",
    "        # convert bytes to unsigned short array\n",
    "        port = int.from_bytes(connection.recv(2), 'big', signed=False)\n",
    "\n",
    "        try:\n",
    "            if cmd == 1:  # CONNECT\n",
    "                remote = socket.socket(socket.AF_INET, socket.SOCK_STREAM)\n",
    "                remote.connect((address, port))\n",
    "                bind_address = remote.getsockname()\n",
    "                print(\"* Connected to {} {}\".format(address, port))\n",
    "            else:\n",
    "                connection.close()\n",
    "\n",
    "            addr = int.from_bytes(socket.inet_aton(bind_address[0]), 'big', signed=False)\n",
    "            port = bind_address[1]\n",
    "\n",
    "            reply = b''.join([\n",
    "                SOCKS_VERSION.to_bytes(1, 'big'),\n",
    "                int(0).to_bytes(1, 'big'),\n",
    "                int(0).to_bytes(1, 'big'),\n",
    "                int(1).to_bytes(1, 'big'),\n",
    "                addr.to_bytes(4, 'big'),\n",
    "                port.to_bytes(2, 'big')\n",
    "            ])\n",
    "        except Exception as e:\n",
    "            # return connection refused error\n",
    "            reply = self.generate_failed_reply(address_type, 5)\n",
    "\n",
    "        connection.sendall(reply)\n",
    "\n",
    "        # establish data exchange\n",
    "        if reply[1] == 0 and cmd == 1:\n",
    "            self.exchange_loop(connection, remote)\n",
    "\n",
    "        connection.close()\n",
    "\n",
    "    \n",
    "    def exchange_loop(self, client, remote):\n",
    "        while True:\n",
    "            # wait until client or remote is available for read\n",
    "            r, w, e = select.select([client, remote], [], [])\n",
    "\n",
    "            if client in r:\n",
    "                data = client.recv(4096)\n",
    "                if remote.send(data) <= 0:\n",
    "                    break\n",
    "\n",
    "            if remote in r:\n",
    "                data = remote.recv(4096)\n",
    "                if client.send(data) <= 0:\n",
    "                    break\n",
    "\n",
    "    \n",
    "    def generate_failed_reply(self, address_type, error_number):\n",
    "        return b''.join([\n",
    "            SOCKS_VERSION.to_bytes(1, 'big'),\n",
    "            error_number.to_bytes(1, 'big'),\n",
    "            int(0).to_bytes(1, 'big'),\n",
    "            address_type.to_bytes(1, 'big'),\n",
    "            int(0).to_bytes(4, 'big'),\n",
    "            int(0).to_bytes(4, 'big')\n",
    "        ])\n",
    "\n",
    "\n",
    "    def verify_credentials(self, connection):\n",
    "        version = ord(connection.recv(1)) # should be 1\n",
    "\n",
    "        username_len = ord(connection.recv(1))\n",
    "        username = connection.recv(username_len).decode('utf-8')\n",
    "\n",
    "        password_len = ord(connection.recv(1))\n",
    "        password = connection.recv(password_len).decode('utf-8')\n",
    "\n",
    "        if username == self.username and password == self.password:\n",
    "            # success, status = 0\n",
    "            response = bytes([version, 0])\n",
    "            connection.sendall(response)\n",
    "            return True\n",
    "\n",
    "        # failure, status != 0\n",
    "        response = bytes([version, 0xFF])\n",
    "        connection.sendall(response)\n",
    "        connection.close()\n",
    "        return False\n",
    "\n",
    "\n",
    "    def get_available_methods(self, nmethods, connection):\n",
    "        methods = []\n",
    "        for i in range(nmethods):\n",
    "            methods.append(ord(connection.recv(1)))\n",
    "        return methods\n",
    "\n",
    "    def run(self, host, port):\n",
    "        s = socket.socket(socket.AF_INET, socket.SOCK_STREAM)\n",
    "        s.bind((host, port))\n",
    "        s.listen()\n",
    "\n",
    "        print(\"* Socks5 proxy server is running on {}:{}\".format(host, port))\n",
    "\n",
    "        while True:\n",
    "            conn, addr = s.accept()\n",
    "            print(\"* new connection from {}\".format(addr))\n",
    "            t = threading.Thread(target=self.handle_client, args=(conn,))\n",
    "            t.start()\n",
    "\n",
    "\n",
    "if __name__ == \"__main__\":\n",
    "    proxy = Proxy()\n",
    "    proxy.run(\"127.0.0.1\", 3000)\n",
    "    \n",
    "#proxy.run(\"119.81.189.194:80\", 3000)\n"
   ]
  },
  {
   "cell_type": "code",
   "execution_count": null,
   "metadata": {},
   "outputs": [],
   "source": []
  }
 ],
 "metadata": {
  "kernelspec": {
   "display_name": "Python 3",
   "language": "python",
   "name": "python3"
  },
  "language_info": {
   "codemirror_mode": {
    "name": "ipython",
    "version": 3
   },
   "file_extension": ".py",
   "mimetype": "text/x-python",
   "name": "python",
   "nbconvert_exporter": "python",
   "pygments_lexer": "ipython3",
   "version": "3.7.4"
  }
 },
 "nbformat": 4,
 "nbformat_minor": 4
}
